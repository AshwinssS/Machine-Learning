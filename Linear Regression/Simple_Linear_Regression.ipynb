{
 "cells": [
  {
   "cell_type": "markdown",
   "metadata": {},
   "source": [
    "# Linear Regression from Scratch"
   ]
  },
  {
   "cell_type": "markdown",
   "metadata": {},
   "source": [
    "Welcome! Here I have created a Simple Linear Regression Model from scratch and used gradient descend algorithm to reduce the cost function. The cost function reduction is plotted below and the updated weights and bias are printed."
   ]
  },
  {
   "cell_type": "code",
   "execution_count": 1,
   "metadata": {},
   "outputs": [],
   "source": [
    "import numpy as np\n",
    "import matplotlib.pyplot as plt"
   ]
  },
  {
   "cell_type": "code",
   "execution_count": 2,
   "metadata": {},
   "outputs": [],
   "source": [
    "#Linear Regression Class\n",
    "class LinearRegression:\n",
    "    \n",
    "    def __init__(self, x, y):\n",
    "        \n",
    "        self.x = x #features\n",
    "        self.y = y #lables\n",
    "        self.w = 0 #weights\n",
    "        self.b = 0#bias\n",
    "        self.alpha = 0.01 #learning factor\n",
    "        self.n = len(x) #No of elements\n",
    "        self.cost_dict = {}\n",
    "        self.cost_iter = []\n",
    "        self.li_cost = [] \n",
    "        \n",
    "    def cost(self):\n",
    "        \n",
    "        return np.sum(((self.y - ((self.x * self.w) + self.b)) ** 2 )) / self.n\n",
    "    \n",
    "    def gradient(self):\n",
    "        \n",
    "        grad_w = -(2 / self.n) * np.sum((self.y - ((self.x * self.w) + self.b)) * self.x)\n",
    "        grad_b = -(2 / self.n) * np.sum((self.y - ((self.x * self.w) + self.b)))\n",
    "        return grad_w, grad_b\n",
    "        \n",
    "    def update_parameters(self):\n",
    "        \n",
    "        self.w = self.w - self.alpha * self.gradient()[0]\n",
    "        self.b = self.b - self.alpha * self.gradient()[1]\n",
    "        #return self.w, self.b\n",
    "    \n",
    "    def Model_Training(self):\n",
    "\n",
    "        for i in range(1000):\n",
    "            self.update_parameters()\n",
    "            self.cost_iter.append(i)\n",
    "            self.li_cost.append(self.cost())\n",
    "            #print('The Cost Function is {}'.format(self.cost()))\n",
    "            \n",
    "    def Model_Testing(self, test_data):\n",
    "        \n",
    "        y_pred = self.w * test_data + self.b\n",
    "        return y_pred\n",
    "      "
   ]
  },
  {
   "cell_type": "code",
   "execution_count": 3,
   "metadata": {},
   "outputs": [],
   "source": [
    "#Creating simple linear dataset to work with the Model\n",
    "x = np.array([1, 3, 4, 6, 7])\n",
    "y = x*2 + 3"
   ]
  },
  {
   "cell_type": "code",
   "execution_count": 4,
   "metadata": {},
   "outputs": [],
   "source": [
    "Model = LinearRegression(x, y)"
   ]
  },
  {
   "cell_type": "code",
   "execution_count": 5,
   "metadata": {},
   "outputs": [],
   "source": [
    "Model.Model_Training()\n"
   ]
  },
  {
   "cell_type": "markdown",
   "metadata": {},
   "source": [
    "# Number of Training Cycles vs Cost Function"
   ]
  },
  {
   "cell_type": "code",
   "execution_count": 6,
   "metadata": {},
   "outputs": [
    {
     "data": {
      "text/plain": [
       "Text(0.5, 1.0, 'Cost Function Optimization')"
      ]
     },
     "execution_count": 6,
     "metadata": {},
     "output_type": "execute_result"
    },
    {
     "data": {
      "image/png": "[encoded data removed]",
      "text/plain": [
       "<Figure size 432x288 with 1 Axes>"
      ]
     },
     "metadata": {
      "needs_background": "light"
     },
     "output_type": "display_data"
    }
   ],
   "source": [
    "plt.plot(Model.cost_iter, Model.li_cost)\n",
    "plt.xlabel('No of iterations')\n",
    "plt.ylabel('Cost Function')\n",
    "plt.title('Cost Function Optimization')"
   ]
  },
  {
   "cell_type": "code",
   "execution_count": 7,
   "metadata": {},
   "outputs": [
    {
     "name": "stdout",
     "output_type": "stream",
     "text": [
      "The cost function before optimization/training is  45.3598656576\n",
      "The Cost function after optimization/training is  0.00047945285200717906\n"
     ]
    }
   ],
   "source": [
    "print(\"The cost function before optimization/training is \", Model.li_cost[0])\n",
    "print(\"The Cost function after optimization/training is \", Model.li_cost[-1])"
   ]
  },
  {
   "cell_type": "markdown",
   "metadata": {},
   "source": [
    "# Testing of the Model"
   ]
  },
  {
   "cell_type": "code",
   "execution_count": 8,
   "metadata": {},
   "outputs": [],
   "source": [
    "#Creating Dataset for testing\n",
    "test = np.array([8, 10, 12, 1]) #test data\n",
    "label = test * 2 + 3 #Actual Output"
   ]
  },
  {
   "cell_type": "code",
   "execution_count": 18,
   "metadata": {},
   "outputs": [],
   "source": [
    "prediction = Model.Model_Testing(test)"
   ]
  },
  {
   "cell_type": "code",
   "execution_count": 19,
   "metadata": {},
   "outputs": [
    {
     "data": {
      "text/html": [
       "<div>\n",
       "<style scoped>\n",
       "    .dataframe tbody tr th:only-of-type {\n",
       "        vertical-align: middle;\n",
       "    }\n",
       "\n",
       "    .dataframe tbody tr th {\n",
       "        vertical-align: top;\n",
       "    }\n",
       "\n",
       "    .dataframe thead th {\n",
       "        text-align: right;\n",
       "    }\n",
       "</style>\n",
       "<table border=\"1\" class=\"dataframe\">\n",
       "  <thead>\n",
       "    <tr style=\"text-align: right;\">\n",
       "      <th></th>\n",
       "      <th>Actual Values</th>\n",
       "      <th>Predicted Values</th>\n",
       "    </tr>\n",
       "  </thead>\n",
       "  <tbody>\n",
       "    <tr>\n",
       "      <th>0</th>\n",
       "      <td>19</td>\n",
       "      <td>19.025475</td>\n",
       "    </tr>\n",
       "    <tr>\n",
       "      <th>1</th>\n",
       "      <td>23</td>\n",
       "      <td>23.043920</td>\n",
       "    </tr>\n",
       "    <tr>\n",
       "      <th>2</th>\n",
       "      <td>27</td>\n",
       "      <td>27.062365</td>\n",
       "    </tr>\n",
       "    <tr>\n",
       "      <th>3</th>\n",
       "      <td>5</td>\n",
       "      <td>4.960917</td>\n",
       "    </tr>\n",
       "  </tbody>\n",
       "</table>\n",
       "</div>"
      ],
      "text/plain": [
       "   Actual Values  Predicted Values\n",
       "0             19         19.025475\n",
       "1             23         23.043920\n",
       "2             27         27.062365\n",
       "3              5          4.960917"
      ]
     },
     "execution_count": 19,
     "metadata": {},
     "output_type": "execute_result"
    }
   ],
   "source": [
    "#prediction of the Model\n",
    "#print(prediction)\n",
    "import pandas as pd\n",
    "data_dict = {'Actual Values' : label, 'Predicted Values' : prediction}\n",
    "pd.DataFrame(data_dict)"
   ]
  },
  {
   "cell_type": "code",
   "execution_count": 11,
   "metadata": {},
   "outputs": [
    {
     "name": "stdout",
     "output_type": "stream",
     "text": [
      "MAE: 0.042710598093736785\n",
      "MSE: 0.0019986919031525796\n"
     ]
    }
   ],
   "source": [
    "#Error\n",
    "from sklearn import metrics\n",
    "print('MAE:', metrics.mean_absolute_error(label, prediction))\n",
    "print('MSE:', metrics.mean_squared_error(label, prediction))"
   ]
  },
  {
   "cell_type": "markdown",
   "metadata": {},
   "source": [
    "# Thank You"
   ]
  }
 ],
 "metadata": {
  "kernelspec": {
   "display_name": "Python 3",
   "language": "python",
   "name": "python3"
  },
  "language_info": {
   "codemirror_mode": {
    "name": "ipython",
    "version": 3
   },
   "file_extension": ".py",
   "mimetype": "text/x-python",
   "name": "python",
   "nbconvert_exporter": "python",
   "pygments_lexer": "ipython3",
   "version": "3.7.1"
  }
 },
 "nbformat": 4,
 "nbformat_minor": 2
}
